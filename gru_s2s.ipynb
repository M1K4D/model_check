{
  "nbformat": 4,
  "nbformat_minor": 0,
  "metadata": {
    "colab": {
      "name": "gru_s2s.ipynb",
      "provenance": [],
      "authorship_tag": "ABX9TyPEUzT26GJGBuB1BGG/mu8b",
      "include_colab_link": true
    },
    "kernelspec": {
      "name": "python3",
      "display_name": "Python 3"
    },
    "accelerator": "GPU"
  },
  "cells": [
    {
      "cell_type": "markdown",
      "metadata": {
        "id": "view-in-github",
        "colab_type": "text"
      },
      "source": [
        "<a href=\"https://colab.research.google.com/github/M1K4D/model_check/blob/main/gru_s2s.ipynb\" target=\"_parent\"><img src=\"https://colab.research.google.com/assets/colab-badge.svg\" alt=\"Open In Colab\"/></a>"
      ]
    },
    {
      "cell_type": "code",
      "metadata": {
        "id": "fsbOPAHq2Dmu"
      },
      "source": [
        "from keras.models import Sequential, model_from_json\n",
        "from keras.layers import Dense, Activation, Embedding, GRU, RepeatVector, TimeDistributed\n",
        "from keras.utils import np_utils\n",
        "from keras.preprocessing import sequence\n",
        "import numpy as np\n",
        "import json\n",
        "from IPython.display import SVG, display\n",
        "\n",
        "from matplotlib import pyplot as plt\n",
        "%matplotlib inline\n",
        "plt.style.use(\"ggplot\")"
      ],
      "execution_count": null,
      "outputs": []
    }
  ]
}