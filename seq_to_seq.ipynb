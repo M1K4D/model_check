{
 "cells": [
  {
   "cell_type": "code",
   "execution_count": 1,
   "metadata": {},
   "outputs": [],
   "source": [
    "import deepcut\n",
    "import numpy as np\n",
    "from tensorflow.keras.preprocessing import sequence\n",
    "from tensorflow import keras\n",
    "from pythainlp import word_vector\n",
    "import re,string\n",
    "from numpy import argmax\n",
    "import tensorflow as tf\n",
    "from tensorflow.keras.utils import to_categorical\n",
    "import random"
   ]
  },
  {
   "cell_type": "code",
   "execution_count": 2,
   "metadata": {},
   "outputs": [],
   "source": [
    "def clean_msg(msg):\n",
    "    # ลบ text ที่อยู่ในวงเล็บ <> ทั้งหมด\n",
    "    msg = re.sub(r'<*?>','', msg)\n",
    "    msg = re.sub(r'\\d+', '',msg)\n",
    "    # ลบ hashtag\n",
    "    msg = re.sub(r'#','',msg)\n",
    "    msg = re.sub(r'-','',msg)\n",
    "    msg = re.sub(r'ฯ','',msg)\n",
    "    msg = re.sub(r'ๆ','',msg)\n",
    "    msg = re.sub(r'!@#$','',msg)\n",
    "    msg = re.sub(r'[a-zA-Z]','',msg)\n",
    "    # ลบ เครื่องหมายคำพูด (punctuation)\n",
    "    for c in string.punctuation:\n",
    "        msg = re.sub(r'\\{}'.format(c),'',msg)\n",
    "    # ลบ separator เช่น \\n \\t\n",
    "    msg = ' '.join(msg.split())\n",
    "    \n",
    "    return msg"
   ]
  },
  {
   "cell_type": "code",
   "execution_count": 86,
   "metadata": {},
   "outputs": [
    {
     "name": "stdout",
     "output_type": "stream",
     "text": [
      "13891\n"
     ]
    }
   ],
   "source": [
    "input_txt = open(\"corpus1.txt\",\"r\")\n",
    "text = input_txt.read()\n",
    "txt = clean_msg(text)\n",
    "input_txt.close()\n",
    "corpus = txt.split()\n",
    "# corpus = list(dict.fromkeys(corpus))\n",
    "print(len(corpus))"
   ]
  },
  {
   "cell_type": "code",
   "execution_count": 87,
   "metadata": {},
   "outputs": [],
   "source": [
    "maxlen = 100\n",
    "minlen = 10\n",
    "good_sen = []\n",
    "for i in corpus:\n",
    "    if len(i) <= maxlen and len(i) >= minlen:\n",
    "        good_sen.append(i)"
   ]
  },
  {
   "cell_type": "code",
   "execution_count": 88,
   "metadata": {},
   "outputs": [
    {
     "name": "stdout",
     "output_type": "stream",
     "text": [
      "8883\n"
     ]
    }
   ],
   "source": [
    "# print(good_sen)\n",
    "print(len(good_sen))"
   ]
  },
  {
   "cell_type": "code",
   "execution_count": 89,
   "metadata": {},
   "outputs": [],
   "source": [
    "thai_letters = 'กขฃคฅฆงจฉชซฌญฎฏฐฑฒณดตถทธนบปผฝพฟภมยรฤฤๅลฦฦๅวศษสหฬอฮะัาำิีึืุูเแโใไ็่้๊๋์'\n",
    "thai_letters1 = 'กขฃคฅฆงจฉชซฌญฎฏฐฑฒณดตถทธนบปผฝพฟภมยรฤฤๅลฦฦๅวศษสหฬอฮ'\n",
    "input_characters = []\n",
    "target_characters = []\n",
    "for i in thai_letters:\n",
    "    input_characters.append(i)\n",
    "    target_characters.append(i)\n",
    "letters = []\n",
    "for j in thai_letters1:\n",
    "    letters.append(j)"
   ]
  },
  {
   "cell_type": "code",
   "execution_count": 90,
   "metadata": {},
   "outputs": [],
   "source": [
    "target_characters = ['\\t'] + [\"\\n\"] +[' '] +['“'] +['”']+ target_characters\n",
    "input_characters = [' '] +['“']+['”']+ input_characters"
   ]
  },
  {
   "cell_type": "code",
   "execution_count": 91,
   "metadata": {},
   "outputs": [],
   "source": [
    "to_noise = []\n",
    "for i in good_sen:\n",
    "    to_noise.append(i)\n",
    "# print(to_noise)"
   ]
  },
  {
   "cell_type": "code",
   "execution_count": 92,
   "metadata": {},
   "outputs": [],
   "source": [
    "def Convert(string): \n",
    "    list1=[] \n",
    "    list1[:0]=string \n",
    "    return list1"
   ]
  },
  {
   "cell_type": "code",
   "execution_count": 93,
   "metadata": {},
   "outputs": [
    {
     "name": "stdout",
     "output_type": "stream",
     "text": [
      "8883\n"
     ]
    }
   ],
   "source": [
    "noise = []\n",
    "for i in to_noise:\n",
    "    n = Convert(i)\n",
    "    if len(i) >= 20 and len(i) <= 50:\n",
    "        for k in range(4):\n",
    "            x = random.randint(1, len(i)-1)\n",
    "            y = random.randint(0, len(thai_letters1)-1)\n",
    "            n[x] = thai_letters1[y]\n",
    "    elif len(i) > 50:\n",
    "        for k in range(5):\n",
    "            x = random.randint(1, len(i)-1)\n",
    "            y = random.randint(0, len(thai_letters1)-1)\n",
    "            n[x] = thai_letters1[y]\n",
    "    else:\n",
    "        x = random.randint(1, len(i)-1)\n",
    "        y = random.randint(0, len(thai_letters1)-1)\n",
    "        n[x] = thai_letters1[y]\n",
    "    nos = ''.join(n)\n",
    "    noise.append(nos)\n",
    "print(len(noise))"
   ]
  },
  {
   "cell_type": "code",
   "execution_count": 94,
   "metadata": {},
   "outputs": [],
   "source": [
    "input_texts = []\n",
    "target_texts = []"
   ]
  },
  {
   "cell_type": "code",
   "execution_count": null,
   "metadata": {},
   "outputs": [],
   "source": []
  },
  {
   "cell_type": "code",
   "execution_count": 95,
   "metadata": {},
   "outputs": [],
   "source": [
    "for data in good_sen:\n",
    "#     input_texts.append(data)\n",
    "    target_texts.append('\\t'+data+'\\n')\n",
    "for nos in noise:\n",
    "    input_texts.append(nos)"
   ]
  },
  {
   "cell_type": "code",
   "execution_count": 96,
   "metadata": {},
   "outputs": [
    {
     "name": "stdout",
     "output_type": "stream",
     "text": [
      "8883\n",
      "8883\n"
     ]
    }
   ],
   "source": [
    "print(len(input_texts))\n",
    "print(len(target_texts))\n",
    "# print(target_texts)"
   ]
  },
  {
   "cell_type": "code",
   "execution_count": 97,
   "metadata": {},
   "outputs": [],
   "source": [
    "num_encoder_tokens = len(input_characters)\n",
    "num_decoder_tokens = len(target_characters)\n",
    "max_encoder_seq_length = max([len(txt) for txt in input_texts])\n",
    "max_decoder_seq_length = max([len(txt) for txt in target_texts])"
   ]
  },
  {
   "cell_type": "code",
   "execution_count": 98,
   "metadata": {},
   "outputs": [
    {
     "name": "stdout",
     "output_type": "stream",
     "text": [
      "Number of samples: 8883\n",
      "Number of unique input tokens: 74\n",
      "Number of unique output tokens: 76\n",
      "Max sequence length for inputs: 99\n",
      "Max sequence length for outputs: 101\n"
     ]
    }
   ],
   "source": [
    "print(\"Number of samples:\", len(input_texts))\n",
    "print(\"Number of unique input tokens:\", num_encoder_tokens)\n",
    "print(\"Number of unique output tokens:\", num_decoder_tokens)\n",
    "print(\"Max sequence length for inputs:\", max_encoder_seq_length)\n",
    "print(\"Max sequence length for outputs:\", max_decoder_seq_length)"
   ]
  },
  {
   "cell_type": "code",
   "execution_count": 99,
   "metadata": {},
   "outputs": [],
   "source": [
    "input_token_index = dict([(char, i) for i, char in enumerate(input_characters)])\n",
    "target_token_index = dict([(char, i) for i, char in enumerate(target_characters)])"
   ]
  },
  {
   "cell_type": "code",
   "execution_count": 100,
   "metadata": {},
   "outputs": [],
   "source": [
    "encoder_input_data = np.zeros(\n",
    "    (len(input_texts), max_encoder_seq_length, num_encoder_tokens), dtype=\"float32\"\n",
    ")\n",
    "decoder_input_data = np.zeros(\n",
    "    (len(input_texts), max_decoder_seq_length, num_decoder_tokens), dtype=\"float32\"\n",
    ")\n",
    "decoder_target_data = np.zeros(\n",
    "    (len(input_texts), max_decoder_seq_length, num_decoder_tokens), dtype=\"float32\"\n",
    ")"
   ]
  },
  {
   "cell_type": "code",
   "execution_count": 101,
   "metadata": {},
   "outputs": [],
   "source": [
    "for i, (input_text, target_text) in enumerate(zip(input_texts, target_texts)):\n",
    "    for t, char in enumerate(input_text):\n",
    "        encoder_input_data[i, t, input_token_index[char]] = 1.0\n",
    "    encoder_input_data[i, t + 1 :, input_token_index[\" \"]] = 1.0\n",
    "    for t, char in enumerate(target_text):\n",
    "        # decoder_target_data is ahead of decoder_input_data by one timestep\n",
    "        decoder_input_data[i, t, target_token_index[char]] = 1.0\n",
    "        if t > 0:\n",
    "            # decoder_target_data will be ahead by one timestep\n",
    "            # and will not include the start character.\n",
    "            decoder_target_data[i, t - 1, target_token_index[char]] = 1.0\n",
    "    decoder_input_data[i, t + 1 :, target_token_index[\" \"]] = 1.0\n",
    "    decoder_target_data[i, t:, target_token_index[\" \"]] = 1.0\n"
   ]
  },
  {
   "cell_type": "code",
   "execution_count": 102,
   "metadata": {},
   "outputs": [],
   "source": [
    "batch_size = 64  # Batch size for training.\n",
    "epochs = 100  # Number of epochs to train for.\n",
    "latent_dim = 256  # Latent dimensionality of the encoding space.\n",
    "# num_samples = 10000  # Number of samples to train on.\n",
    "# # Path to the data txt file on disk.\n",
    "# data_path = \"fra.txt\""
   ]
  },
  {
   "cell_type": "code",
   "execution_count": 103,
   "metadata": {},
   "outputs": [
    {
     "name": "stdout",
     "output_type": "stream",
     "text": [
      "(8883, 99, 74)\n",
      "(8883, 101, 76)\n",
      "(8883, 101, 76)\n"
     ]
    }
   ],
   "source": [
    "print(encoder_input_data.shape)\n",
    "print(decoder_input_data.shape)\n",
    "print(decoder_target_data.shape)"
   ]
  },
  {
   "cell_type": "code",
   "execution_count": 68,
   "metadata": {},
   "outputs": [],
   "source": [
    "# Define an input sequence and process it.\n",
    "encoder_inputs = keras.Input(shape=(None, num_encoder_tokens))\n",
    "encoder = keras.layers.LSTM(latent_dim, return_state=True)\n",
    "encoder_outputs, state_h, state_c = encoder(encoder_inputs)\n",
    "\n",
    "# We discard `encoder_outputs` and only keep the states.\n",
    "encoder_states = [state_h, state_c]\n",
    "\n",
    "# Set up the decoder, using `encoder_states` as initial state.\n",
    "decoder_inputs = keras.Input(shape=(None, num_decoder_tokens))\n",
    "\n",
    "# We set up our decoder to return full output sequences,\n",
    "# and to return internal states as well. We don't use the\n",
    "# return states in the training model, but we will use them in inference.\n",
    "decoder_lstm = keras.layers.LSTM(latent_dim, return_sequences=True, return_state=True)\n",
    "decoder_outputs, _, _ = decoder_lstm(decoder_inputs, initial_state=encoder_states)\n",
    "decoder_dense = keras.layers.Dense(num_decoder_tokens, activation=\"softmax\")\n",
    "decoder_outputs = decoder_dense(decoder_outputs)\n",
    "\n",
    "# Define the model that will turn\n",
    "# `encoder_input_data` & `decoder_input_data` into `decoder_target_data`\n",
    "model = keras.Model([encoder_inputs, decoder_inputs], decoder_outputs)\n"
   ]
  },
  {
   "cell_type": "code",
   "execution_count": 105,
   "metadata": {},
   "outputs": [
    {
     "name": "stdout",
     "output_type": "stream",
     "text": [
      "Model: \"functional_23\"\n",
      "__________________________________________________________________________________________________\n",
      "Layer (type)                    Output Shape         Param #     Connected to                     \n",
      "==================================================================================================\n",
      "input_3 (InputLayer)            [(None, None, 74)]   0                                            \n",
      "__________________________________________________________________________________________________\n",
      "input_4 (InputLayer)            [(None, None, 76)]   0                                            \n",
      "__________________________________________________________________________________________________\n",
      "lstm_2 (LSTM)                   [(None, 256), (None, 338944      input_3[0][0]                    \n",
      "__________________________________________________________________________________________________\n",
      "lstm_3 (LSTM)                   [(None, None, 256),  340992      input_4[0][0]                    \n",
      "                                                                 lstm_2[0][1]                     \n",
      "                                                                 lstm_2[0][2]                     \n",
      "__________________________________________________________________________________________________\n",
      "dense_1 (Dense)                 (None, None, 76)     19532       lstm_3[0][0]                     \n",
      "==================================================================================================\n",
      "Total params: 699,468\n",
      "Trainable params: 699,468\n",
      "Non-trainable params: 0\n",
      "__________________________________________________________________________________________________\n",
      "None\n"
     ]
    }
   ],
   "source": [
    "print(model.summary())"
   ]
  },
  {
   "cell_type": "code",
   "execution_count": 79,
   "metadata": {},
   "outputs": [
    {
     "name": "stdout",
     "output_type": "stream",
     "text": [
      "Epoch 1/100\n",
      "112/112 [==============================] - 4s 39ms/step - loss: 0.0094 - accuracy: 0.9968 - val_loss: 0.0069 - val_accuracy: 0.9974\n",
      "Epoch 2/100\n",
      "112/112 [==============================] - 3s 30ms/step - loss: 0.0088 - accuracy: 0.9970 - val_loss: 0.0087 - val_accuracy: 0.9974\n",
      "Epoch 3/100\n",
      "112/112 [==============================] - 3s 31ms/step - loss: 0.0084 - accuracy: 0.9972 - val_loss: 0.0078 - val_accuracy: 0.9974\n",
      "Epoch 4/100\n",
      "112/112 [==============================] - 4s 32ms/step - loss: 0.0084 - accuracy: 0.9971 - val_loss: 0.0060 - val_accuracy: 0.9979\n",
      "Epoch 5/100\n",
      "112/112 [==============================] - 3s 31ms/step - loss: 0.0079 - accuracy: 0.9972 - val_loss: 0.0065 - val_accuracy: 0.9977\n",
      "Epoch 6/100\n",
      "112/112 [==============================] - 3s 31ms/step - loss: 0.0078 - accuracy: 0.9973 - val_loss: 0.0108 - val_accuracy: 0.9966\n",
      "Epoch 7/100\n",
      "112/112 [==============================] - 4s 32ms/step - loss: 0.0075 - accuracy: 0.9974 - val_loss: 0.0058 - val_accuracy: 0.9980\n",
      "Epoch 8/100\n",
      "112/112 [==============================] - 3s 31ms/step - loss: 0.0073 - accuracy: 0.9974 - val_loss: 0.0194 - val_accuracy: 0.9947\n",
      "Epoch 9/100\n",
      "112/112 [==============================] - 3s 30ms/step - loss: 0.0074 - accuracy: 0.9974 - val_loss: 0.0085 - val_accuracy: 0.9975\n",
      "Epoch 10/100\n",
      "112/112 [==============================] - 3s 31ms/step - loss: 0.0071 - accuracy: 0.9976 - val_loss: 0.0113 - val_accuracy: 0.9966\n",
      "Epoch 11/100\n",
      "112/112 [==============================] - 3s 31ms/step - loss: 0.0070 - accuracy: 0.9976 - val_loss: 0.0051 - val_accuracy: 0.9981\n",
      "Epoch 12/100\n",
      "112/112 [==============================] - 3s 30ms/step - loss: 0.0069 - accuracy: 0.9976 - val_loss: 0.0051 - val_accuracy: 0.9981\n",
      "Epoch 13/100\n",
      "112/112 [==============================] - 3s 30ms/step - loss: 0.0067 - accuracy: 0.9977 - val_loss: 0.0050 - val_accuracy: 0.9981\n",
      "Epoch 14/100\n",
      "112/112 [==============================] - 3s 31ms/step - loss: 0.0066 - accuracy: 0.9977 - val_loss: 0.0135 - val_accuracy: 0.9962\n",
      "Epoch 15/100\n",
      "112/112 [==============================] - 3s 30ms/step - loss: 0.0070 - accuracy: 0.9977 - val_loss: 0.0046 - val_accuracy: 0.9984\n",
      "Epoch 16/100\n",
      "112/112 [==============================] - 3s 30ms/step - loss: 0.0066 - accuracy: 0.9977 - val_loss: 0.0065 - val_accuracy: 0.9981\n",
      "Epoch 17/100\n",
      "112/112 [==============================] - 3s 30ms/step - loss: 0.0062 - accuracy: 0.9979 - val_loss: 0.0071 - val_accuracy: 0.9979\n",
      "Epoch 18/100\n",
      "112/112 [==============================] - 3s 31ms/step - loss: 0.0061 - accuracy: 0.9980 - val_loss: 0.0067 - val_accuracy: 0.9981\n",
      "Epoch 19/100\n",
      "112/112 [==============================] - 3s 30ms/step - loss: 0.0060 - accuracy: 0.9979 - val_loss: 0.0094 - val_accuracy: 0.9970\n",
      "Epoch 20/100\n",
      "112/112 [==============================] - 3s 30ms/step - loss: 0.0060 - accuracy: 0.9980 - val_loss: 0.0041 - val_accuracy: 0.9987\n",
      "Epoch 21/100\n",
      "112/112 [==============================] - 3s 30ms/step - loss: 0.0058 - accuracy: 0.9981 - val_loss: 0.0042 - val_accuracy: 0.9984\n",
      "Epoch 22/100\n",
      "112/112 [==============================] - 3s 30ms/step - loss: 0.0056 - accuracy: 0.9981 - val_loss: 0.0068 - val_accuracy: 0.9978\n",
      "Epoch 23/100\n",
      "112/112 [==============================] - 3s 30ms/step - loss: 0.0056 - accuracy: 0.9981 - val_loss: 0.0079 - val_accuracy: 0.9977\n",
      "Epoch 24/100\n",
      "112/112 [==============================] - 3s 30ms/step - loss: 0.0055 - accuracy: 0.9982 - val_loss: 0.0062 - val_accuracy: 0.9982\n",
      "Epoch 25/100\n",
      "112/112 [==============================] - 3s 31ms/step - loss: 0.0054 - accuracy: 0.9982 - val_loss: 0.0056 - val_accuracy: 0.9983\n",
      "Epoch 26/100\n",
      "112/112 [==============================] - 3s 30ms/step - loss: 0.0054 - accuracy: 0.9982 - val_loss: 0.0057 - val_accuracy: 0.9984\n",
      "Epoch 27/100\n",
      "112/112 [==============================] - 3s 30ms/step - loss: 0.0052 - accuracy: 0.9983 - val_loss: 0.0037 - val_accuracy: 0.9988\n",
      "Epoch 28/100\n",
      "112/112 [==============================] - 3s 31ms/step - loss: 0.0051 - accuracy: 0.9983 - val_loss: 0.0043 - val_accuracy: 0.9986\n",
      "Epoch 29/100\n",
      "112/112 [==============================] - 3s 30ms/step - loss: 0.0051 - accuracy: 0.9983 - val_loss: 0.0039 - val_accuracy: 0.9986\n",
      "Epoch 30/100\n",
      "112/112 [==============================] - 3s 30ms/step - loss: 0.0050 - accuracy: 0.9983 - val_loss: 0.0036 - val_accuracy: 0.9988\n",
      "Epoch 31/100\n",
      "112/112 [==============================] - 3s 30ms/step - loss: 0.0049 - accuracy: 0.9984 - val_loss: 0.0040 - val_accuracy: 0.9985\n",
      "Epoch 32/100\n",
      "112/112 [==============================] - 3s 31ms/step - loss: 0.0048 - accuracy: 0.9984 - val_loss: 0.0041 - val_accuracy: 0.9986\n",
      "Epoch 33/100\n",
      "112/112 [==============================] - 3s 30ms/step - loss: 0.0046 - accuracy: 0.9985 - val_loss: 0.0040 - val_accuracy: 0.9986\n",
      "Epoch 34/100\n",
      "112/112 [==============================] - 3s 30ms/step - loss: 0.0047 - accuracy: 0.9984 - val_loss: 0.0035 - val_accuracy: 0.9989\n",
      "Epoch 35/100\n",
      "112/112 [==============================] - 3s 31ms/step - loss: 0.0045 - accuracy: 0.9985 - val_loss: 0.0034 - val_accuracy: 0.9989\n",
      "Epoch 36/100\n",
      "112/112 [==============================] - 3s 30ms/step - loss: 0.0051 - accuracy: 0.9983 - val_loss: 0.0091 - val_accuracy: 0.9980\n",
      "Epoch 37/100\n",
      "112/112 [==============================] - 3s 30ms/step - loss: 0.0046 - accuracy: 0.9985 - val_loss: 0.0051 - val_accuracy: 0.9983\n",
      "Epoch 38/100\n",
      "112/112 [==============================] - 3s 31ms/step - loss: 0.0042 - accuracy: 0.9986 - val_loss: 0.0069 - val_accuracy: 0.9978\n",
      "Epoch 39/100\n",
      "112/112 [==============================] - 3s 31ms/step - loss: 0.0044 - accuracy: 0.9985 - val_loss: 0.0035 - val_accuracy: 0.9988\n",
      "Epoch 40/100\n",
      "112/112 [==============================] - 3s 30ms/step - loss: 0.0043 - accuracy: 0.9985 - val_loss: 0.0060 - val_accuracy: 0.9980\n",
      "Epoch 41/100\n",
      "112/112 [==============================] - 3s 30ms/step - loss: 0.0042 - accuracy: 0.9986 - val_loss: 0.0041 - val_accuracy: 0.9988\n",
      "Epoch 42/100\n",
      "112/112 [==============================] - 3s 31ms/step - loss: 0.0041 - accuracy: 0.9986 - val_loss: 0.0064 - val_accuracy: 0.9984\n",
      "Epoch 43/100\n",
      "112/112 [==============================] - 3s 30ms/step - loss: 0.0041 - accuracy: 0.9987 - val_loss: 0.0033 - val_accuracy: 0.9990\n",
      "Epoch 44/100\n",
      "112/112 [==============================] - 3s 30ms/step - loss: 0.0039 - accuracy: 0.9987 - val_loss: 0.0043 - val_accuracy: 0.9986\n",
      "Epoch 45/100\n",
      "112/112 [==============================] - 3s 30ms/step - loss: 0.0039 - accuracy: 0.9987 - val_loss: 0.0063 - val_accuracy: 0.9979\n",
      "Epoch 46/100\n",
      "112/112 [==============================] - 3s 31ms/step - loss: 0.0038 - accuracy: 0.9987 - val_loss: 0.0045 - val_accuracy: 0.9987\n",
      "Epoch 47/100\n",
      "112/112 [==============================] - 3s 31ms/step - loss: 0.0037 - accuracy: 0.9988 - val_loss: 0.0030 - val_accuracy: 0.9990\n",
      "Epoch 48/100\n",
      "112/112 [==============================] - 3s 30ms/step - loss: 0.0036 - accuracy: 0.9988 - val_loss: 0.0052 - val_accuracy: 0.9985\n",
      "Epoch 49/100\n",
      "112/112 [==============================] - 3s 31ms/step - loss: 0.0038 - accuracy: 0.9988 - val_loss: 0.0035 - val_accuracy: 0.9989\n",
      "Epoch 50/100\n",
      "112/112 [==============================] - 3s 30ms/step - loss: 0.0036 - accuracy: 0.9988 - val_loss: 0.0027 - val_accuracy: 0.9991\n",
      "Epoch 51/100\n",
      "112/112 [==============================] - 3s 30ms/step - loss: 0.0036 - accuracy: 0.9988 - val_loss: 0.0033 - val_accuracy: 0.9990\n",
      "Epoch 52/100\n",
      "112/112 [==============================] - 3s 30ms/step - loss: 0.0035 - accuracy: 0.9989 - val_loss: 0.0087 - val_accuracy: 0.9978\n",
      "Epoch 53/100\n",
      "112/112 [==============================] - 4s 32ms/step - loss: 0.0035 - accuracy: 0.9989 - val_loss: 0.0028 - val_accuracy: 0.9991\n",
      "Epoch 54/100\n",
      "112/112 [==============================] - 3s 30ms/step - loss: 0.0033 - accuracy: 0.9989 - val_loss: 0.0029 - val_accuracy: 0.9991\n",
      "Epoch 55/100\n",
      "112/112 [==============================] - 3s 30ms/step - loss: 0.0031 - accuracy: 0.9990 - val_loss: 0.0031 - val_accuracy: 0.9990\n",
      "Epoch 56/100\n",
      "112/112 [==============================] - 3s 31ms/step - loss: 0.0033 - accuracy: 0.9989 - val_loss: 0.0033 - val_accuracy: 0.9989\n",
      "Epoch 57/100\n"
     ]
    },
    {
     "name": "stdout",
     "output_type": "stream",
     "text": [
      "112/112 [==============================] - 3s 30ms/step - loss: 0.0033 - accuracy: 0.9989 - val_loss: 0.0025 - val_accuracy: 0.9992\n",
      "Epoch 58/100\n",
      "112/112 [==============================] - 3s 30ms/step - loss: 0.0031 - accuracy: 0.9989 - val_loss: 0.0030 - val_accuracy: 0.9991\n",
      "Epoch 59/100\n",
      "112/112 [==============================] - 3s 30ms/step - loss: 0.0033 - accuracy: 0.9989 - val_loss: 0.0024 - val_accuracy: 0.9992\n",
      "Epoch 60/100\n",
      "112/112 [==============================] - 3s 31ms/step - loss: 0.0030 - accuracy: 0.9990 - val_loss: 0.0036 - val_accuracy: 0.9989\n",
      "Epoch 61/100\n",
      "112/112 [==============================] - 3s 30ms/step - loss: 0.0032 - accuracy: 0.9990 - val_loss: 0.0029 - val_accuracy: 0.9991\n",
      "Epoch 62/100\n",
      "112/112 [==============================] - 3s 30ms/step - loss: 0.0031 - accuracy: 0.9990 - val_loss: 0.0026 - val_accuracy: 0.9991\n",
      "Epoch 63/100\n",
      "112/112 [==============================] - 3s 31ms/step - loss: 0.0029 - accuracy: 0.9990 - val_loss: 0.0024 - val_accuracy: 0.9992\n",
      "Epoch 64/100\n",
      "112/112 [==============================] - 3s 31ms/step - loss: 0.0030 - accuracy: 0.9991 - val_loss: 0.0027 - val_accuracy: 0.9992\n",
      "Epoch 65/100\n",
      "112/112 [==============================] - 3s 31ms/step - loss: 0.0029 - accuracy: 0.9990 - val_loss: 0.0030 - val_accuracy: 0.9990\n",
      "Epoch 66/100\n",
      "112/112 [==============================] - 3s 31ms/step - loss: 0.0029 - accuracy: 0.9990 - val_loss: 0.0024 - val_accuracy: 0.9992\n",
      "Epoch 67/100\n",
      "112/112 [==============================] - 3s 31ms/step - loss: 0.0029 - accuracy: 0.9990 - val_loss: 0.0047 - val_accuracy: 0.9986\n",
      "Epoch 68/100\n",
      "112/112 [==============================] - 3s 30ms/step - loss: 0.0028 - accuracy: 0.9991 - val_loss: 0.0050 - val_accuracy: 0.9986\n",
      "Epoch 69/100\n",
      "112/112 [==============================] - 3s 30ms/step - loss: 0.0029 - accuracy: 0.9991 - val_loss: 0.0027 - val_accuracy: 0.9992\n",
      "Epoch 70/100\n",
      "112/112 [==============================] - 3s 31ms/step - loss: 0.0028 - accuracy: 0.9991 - val_loss: 0.0048 - val_accuracy: 0.9984\n",
      "Epoch 71/100\n",
      "112/112 [==============================] - 3s 30ms/step - loss: 0.0027 - accuracy: 0.9991 - val_loss: 0.0082 - val_accuracy: 0.9981\n",
      "Epoch 72/100\n",
      "112/112 [==============================] - 3s 30ms/step - loss: 0.0028 - accuracy: 0.9991 - val_loss: 0.0023 - val_accuracy: 0.9992\n",
      "Epoch 73/100\n",
      "112/112 [==============================] - 3s 30ms/step - loss: 0.0028 - accuracy: 0.9991 - val_loss: 0.0033 - val_accuracy: 0.9990\n",
      "Epoch 74/100\n",
      "112/112 [==============================] - 4s 31ms/step - loss: 0.0026 - accuracy: 0.9991 - val_loss: 0.0050 - val_accuracy: 0.9985\n",
      "Epoch 75/100\n",
      "112/112 [==============================] - 3s 30ms/step - loss: 0.0027 - accuracy: 0.9991 - val_loss: 0.0032 - val_accuracy: 0.9990\n",
      "Epoch 76/100\n",
      "112/112 [==============================] - 3s 30ms/step - loss: 0.0026 - accuracy: 0.9991 - val_loss: 0.0030 - val_accuracy: 0.9990\n",
      "Epoch 77/100\n",
      "112/112 [==============================] - 3s 31ms/step - loss: 0.0027 - accuracy: 0.9991 - val_loss: 0.0025 - val_accuracy: 0.9992\n",
      "Epoch 78/100\n",
      "112/112 [==============================] - 3s 30ms/step - loss: 0.0025 - accuracy: 0.9992 - val_loss: 0.0025 - val_accuracy: 0.9992\n",
      "Epoch 79/100\n",
      "112/112 [==============================] - 3s 30ms/step - loss: 0.0025 - accuracy: 0.9992 - val_loss: 0.0025 - val_accuracy: 0.9992\n",
      "Epoch 80/100\n",
      "112/112 [==============================] - 3s 30ms/step - loss: 0.0024 - accuracy: 0.9992 - val_loss: 0.0023 - val_accuracy: 0.9993\n",
      "Epoch 81/100\n",
      "112/112 [==============================] - 3s 31ms/step - loss: 0.0024 - accuracy: 0.9992 - val_loss: 0.0036 - val_accuracy: 0.9990\n",
      "Epoch 82/100\n",
      "112/112 [==============================] - 3s 30ms/step - loss: 0.0024 - accuracy: 0.9992 - val_loss: 0.0024 - val_accuracy: 0.9992\n",
      "Epoch 83/100\n",
      "112/112 [==============================] - 4s 32ms/step - loss: 0.0025 - accuracy: 0.9992 - val_loss: 0.0026 - val_accuracy: 0.9991\n",
      "Epoch 84/100\n",
      "112/112 [==============================] - 3s 31ms/step - loss: 0.0023 - accuracy: 0.9992 - val_loss: 0.0026 - val_accuracy: 0.9991\n",
      "Epoch 85/100\n",
      "112/112 [==============================] - 3s 31ms/step - loss: 0.0022 - accuracy: 0.9993 - val_loss: 0.0029 - val_accuracy: 0.9991\n",
      "Epoch 86/100\n",
      "112/112 [==============================] - 3s 30ms/step - loss: 0.0023 - accuracy: 0.9993 - val_loss: 0.0021 - val_accuracy: 0.9993\n",
      "Epoch 87/100\n",
      "112/112 [==============================] - 3s 30ms/step - loss: 0.0022 - accuracy: 0.9993 - val_loss: 0.0023 - val_accuracy: 0.9993\n",
      "Epoch 88/100\n",
      "112/112 [==============================] - 3s 31ms/step - loss: 0.0024 - accuracy: 0.9993 - val_loss: 0.0024 - val_accuracy: 0.9993\n",
      "Epoch 89/100\n",
      "112/112 [==============================] - 3s 30ms/step - loss: 0.0023 - accuracy: 0.9993 - val_loss: 0.0085 - val_accuracy: 0.9977\n",
      "Epoch 90/100\n",
      "112/112 [==============================] - 3s 30ms/step - loss: 0.0022 - accuracy: 0.9994 - val_loss: 0.0096 - val_accuracy: 0.9980\n",
      "Epoch 91/100\n",
      "112/112 [==============================] - 3s 31ms/step - loss: 0.0024 - accuracy: 0.9993 - val_loss: 0.0018 - val_accuracy: 0.9994\n",
      "Epoch 92/100\n",
      "112/112 [==============================] - 3s 31ms/step - loss: 0.0021 - accuracy: 0.9993 - val_loss: 0.0022 - val_accuracy: 0.9993\n",
      "Epoch 93/100\n",
      "112/112 [==============================] - 3s 30ms/step - loss: 0.0021 - accuracy: 0.9993 - val_loss: 0.0121 - val_accuracy: 0.9977\n",
      "Epoch 94/100\n",
      "112/112 [==============================] - 3s 30ms/step - loss: 0.0023 - accuracy: 0.9993 - val_loss: 0.0021 - val_accuracy: 0.9993\n",
      "Epoch 95/100\n",
      "112/112 [==============================] - 3s 31ms/step - loss: 0.0021 - accuracy: 0.9993 - val_loss: 0.0021 - val_accuracy: 0.9993\n",
      "Epoch 96/100\n",
      "112/112 [==============================] - 3s 30ms/step - loss: 0.0020 - accuracy: 0.9994 - val_loss: 0.0022 - val_accuracy: 0.9994\n",
      "Epoch 97/100\n",
      "112/112 [==============================] - 3s 30ms/step - loss: 0.0021 - accuracy: 0.9993 - val_loss: 0.0041 - val_accuracy: 0.9989\n",
      "Epoch 98/100\n",
      "112/112 [==============================] - 3s 31ms/step - loss: 0.0020 - accuracy: 0.9994 - val_loss: 0.0025 - val_accuracy: 0.9992\n",
      "Epoch 99/100\n",
      "112/112 [==============================] - 3s 30ms/step - loss: 0.0020 - accuracy: 0.9993 - val_loss: 0.0024 - val_accuracy: 0.9993\n",
      "Epoch 100/100\n",
      "112/112 [==============================] - 3s 30ms/step - loss: 0.0019 - accuracy: 0.9994 - val_loss: 0.0019 - val_accuracy: 0.9994\n",
      "INFO:tensorflow:Assets written to: s2s_7\\assets\n"
     ]
    }
   ],
   "source": [
    "model.compile(\n",
    "    optimizer=\"rmsprop\", loss=\"categorical_crossentropy\", metrics=[\"accuracy\"]\n",
    ")\n",
    "history = model.fit(\n",
    "    [encoder_input_data, decoder_input_data],\n",
    "    decoder_target_data,\n",
    "    batch_size=batch_size,\n",
    "    epochs=epochs,\n",
    "    validation_split=0.2,\n",
    ")\n",
    "model.save(\"s2s_7\")"
   ]
  },
  {
   "cell_type": "code",
   "execution_count": 80,
   "metadata": {},
   "outputs": [
    {
     "name": "stdout",
     "output_type": "stream",
     "text": [
      "dict_keys(['loss', 'accuracy', 'val_loss', 'val_accuracy'])\n"
     ]
    },
    {
     "data": {
      "image/png": "[encoded data removed]",
      "text/plain": [
       "<Figure size 432x288 with 1 Axes>"
      ]
     },
     "metadata": {
      "needs_background": "light"
     },
     "output_type": "display_data"
    },
    {
     "data": {
      "image/png": "[encoded data removed]",
      "text/plain": [
       "<Figure size 432x288 with 1 Axes>"
      ]
     },
     "metadata": {
      "needs_background": "light"
     },
     "output_type": "display_data"
    }
   ],
   "source": [
    "import matplotlib.pyplot as plt\n",
    "print(history.history.keys())\n",
    "# summarize history for accuracy\n",
    "plt.plot(history.history['accuracy'])\n",
    "plt.plot(history.history['val_accuracy'])\n",
    "plt.title('model accuracy')\n",
    "plt.ylabel('accuracy')\n",
    "plt.xlabel('epoch')\n",
    "plt.legend(['train', 'test'], loc='upper left')\n",
    "plt.show()\n",
    "# summarize history for loss\n",
    "plt.plot(history.history['loss'])\n",
    "plt.plot(history.history['val_loss'])\n",
    "plt.title('model loss')\n",
    "plt.ylabel('loss')\n",
    "plt.xlabel('epoch')\n",
    "plt.legend(['train', 'test'], loc='upper left')\n",
    "plt.show()"
   ]
  },
  {
   "cell_type": "code",
   "execution_count": 81,
   "metadata": {},
   "outputs": [
    {
     "name": "stdout",
     "output_type": "stream",
     "text": [
      "{'\\t': 0, '\\n': 1, ' ': 2, '“': 3, '”': 4, 'ก': 5, 'ข': 6, 'ฃ': 7, 'ค': 8, 'ฅ': 9, 'ฆ': 10, 'ง': 11, 'จ': 12, 'ฉ': 13, 'ช': 14, 'ซ': 15, 'ฌ': 16, 'ญ': 17, 'ฎ': 18, 'ฏ': 19, 'ฐ': 20, 'ฑ': 21, 'ฒ': 22, 'ณ': 23, 'ด': 24, 'ต': 25, 'ถ': 26, 'ท': 27, 'ธ': 28, 'น': 29, 'บ': 30, 'ป': 31, 'ผ': 32, 'ฝ': 33, 'พ': 34, 'ฟ': 35, 'ภ': 36, 'ม': 37, 'ย': 38, 'ร': 39, 'ฤ': 41, 'ๅ': 46, 'ล': 43, 'ฦ': 45, 'ว': 47, 'ศ': 48, 'ษ': 49, 'ส': 50, 'ห': 51, 'ฬ': 52, 'อ': 53, 'ฮ': 54, 'ะ': 55, 'ั': 56, 'า': 57, 'ำ': 58, 'ิ': 59, 'ี': 60, 'ึ': 61, 'ื': 62, 'ุ': 63, 'ู': 64, 'เ': 65, 'แ': 66, 'โ': 67, 'ใ': 68, 'ไ': 69, '็': 70, '่': 71, '้': 72, '๊': 73, '๋': 74, '์': 75}\n"
     ]
    }
   ],
   "source": [
    "print(target_token_index)"
   ]
  },
  {
   "cell_type": "code",
   "execution_count": 82,
   "metadata": {},
   "outputs": [
    {
     "name": "stdout",
     "output_type": "stream",
     "text": [
      "[ 1 12 13  1  1  9  0  1  4  1  0  7  9  1  1  4  1  9 12  1  1  6  1  5\n",
      "  3 12  1 12  7  0  6  3  0 12  0  0  7  9  1  4  1  1  1  1  1  1  1  4\n",
      " 11 11  0  0 11  7 12  1  1  8  0  4 12  4  1  7  1 12  0  4  3  4  1  5\n",
      "  1  1  1  6]\n"
     ]
    }
   ],
   "source": [
    "x = model.predict([encoder_input_data,decoder_input_data]).argmax(axis=1)\n",
    "print(x[0])"
   ]
  },
  {
   "cell_type": "code",
   "execution_count": 83,
   "metadata": {},
   "outputs": [],
   "source": [
    "# model.evaluate([encoder_input_data, decoder_input_data],decoder_target_data)"
   ]
  },
  {
   "cell_type": "code",
   "execution_count": 84,
   "metadata": {},
   "outputs": [],
   "source": [
    "# Define sampling models\n",
    "# Restore the model and construct the encoder and decoder.\n",
    "model = keras.models.load_model(\"s2s_7\")\n",
    "\n",
    "encoder_inputs = model.input[0]  # input_1\n",
    "encoder_outputs, state_h_enc, state_c_enc = model.layers[2].output  # lstm_1\n",
    "encoder_states = [state_h_enc, state_c_enc]\n",
    "encoder_model = keras.Model(encoder_inputs, encoder_states)\n",
    "\n",
    "decoder_inputs = model.input[1]  # input_2\n",
    "decoder_state_input_h = keras.Input(shape=(latent_dim,), name=\"input_5\")\n",
    "decoder_state_input_c = keras.Input(shape=(latent_dim,), name=\"input_6\")\n",
    "decoder_states_inputs = [decoder_state_input_h, decoder_state_input_c]\n",
    "decoder_lstm = model.layers[3]\n",
    "decoder_outputs, state_h_dec, state_c_dec = decoder_lstm(\n",
    "    decoder_inputs, initial_state=decoder_states_inputs\n",
    ")\n",
    "decoder_states = [state_h_dec, state_c_dec]\n",
    "decoder_dense = model.layers[4]\n",
    "decoder_outputs = decoder_dense(decoder_outputs)\n",
    "decoder_model = keras.Model(\n",
    "    [decoder_inputs] + decoder_states_inputs, [decoder_outputs] + decoder_states\n",
    ")\n",
    "\n",
    "# Reverse-lookup token index to decode sequences back to\n",
    "# something readable.\n",
    "reverse_input_char_index = dict((i, char) for char, i in input_token_index.items())\n",
    "reverse_target_char_index = dict((i, char) for char, i in target_token_index.items())\n",
    "\n",
    "\n",
    "def decode_sequence(input_seq):\n",
    "    # Encode the input as state vectors.\n",
    "    states_value = encoder_model.predict(input_seq)\n",
    "\n",
    "    # Generate empty target sequence of length 1.\n",
    "    target_seq = np.zeros((1, 1, num_decoder_tokens))\n",
    "    # Populate the first character of target sequence with the start character.\n",
    "    target_seq[0, 0, target_token_index[\"\\t\"]] = 1.0\n",
    "\n",
    "    # Sampling loop for a batch of sequences\n",
    "    # (to simplify, here we assume a batch of size 1).\n",
    "    stop_condition = False\n",
    "    decoded_sentence = \"\"\n",
    "    while not stop_condition:\n",
    "        output_tokens, h, c = decoder_model.predict([target_seq] + states_value)\n",
    "\n",
    "        # Sample a token\n",
    "        sampled_token_index = np.argmax(output_tokens[0, -1, :])\n",
    "        sampled_char = reverse_target_char_index[sampled_token_index]\n",
    "        decoded_sentence += sampled_char\n",
    "\n",
    "        # Exit condition: either hit max length\n",
    "        # or find stop character.\n",
    "        if sampled_char == \"\\n\" or len(decoded_sentence) > max_decoder_seq_length:\n",
    "            stop_condition = True\n",
    "\n",
    "        # Update the target sequence (of length 1).\n",
    "        target_seq = np.zeros((1, 1, num_decoder_tokens))\n",
    "        target_seq[0, 0, sampled_token_index] = 1.0\n",
    "\n",
    "        # Update states\n",
    "        states_value = [h, c]\n",
    "    return decoded_sentence\n",
    "\n"
   ]
  },
  {
   "cell_type": "code",
   "execution_count": 104,
   "metadata": {},
   "outputs": [
    {
     "name": "stdout",
     "output_type": "stream",
     "text": [
      "-\n",
      "Input sentence: พยากฟณ์อากาศ\n",
      "Decoded sentence: พยากรณ์อากาศ\n",
      "\n",
      "-\n",
      "Input sentence: ชั่วโมงข้างหๅ้า\n",
      "Decoded sentence: ชั่วโมงข้างหน้า\n",
      "\n",
      "-\n",
      "Input sentence: บริเวณควๅมกดอากฐศสูงหรือมวลอากาศเยณนกฐลังปานกลางจากประเทศจีนแผ่ปกคลคมประเทศไทยตอนบน\n",
      "Decoded sentence: บริเวณความกดอากาศสูงหรือมวลอากาศเย็นกำลังค่อนข้างแรงอีกระลอกจากประเทศจีนได้แผ่ลงมา\n",
      "\n",
      "-\n",
      "Input sentence: ประกอบกชบมีหย่อมคผามกทอากาศต่ำปกคลุมบริเวณภระเทฆกัมพูชา\n",
      "Decoded sentence: ประกอบกับมีหย่อมความกดอากาศต่ำปกคลุมบริเวณภาคกลาง\n",
      "\n",
      "-\n",
      "Input sentence: ลักษณะเช่นณี้ทำให้ประเทศฃทยตอนบนณฦฝนเกิดขึ้น\n",
      "Decoded sentence: ลักษณะเช่นนี้ทำให้ประเทศไทยตอนบนมีฝนเกิดขึ้น\n",
      "\n",
      "-\n",
      "Input sentence: กับมีอากฤศเย็น\n",
      "Decoded sentence: กับมีอากาศเย็น\n",
      "\n",
      "-\n",
      "Input sentence: ส่วนชมิเวณยอดดอยและยฒดภู\n",
      "Decoded sentence: ส่วนบริเวณยอดดอยและยอดภู\n",
      "\n",
      "-\n",
      "Input sentence: มีอากาศหญาว\n",
      "Decoded sentence: มีอากาศหนาว\n",
      "\n",
      "-\n",
      "Input sentence: สำหรฬบมรสุสบะวันออกเฉียงเหนือพัดปกคลุมอ่าวไทยและณาฟใต้\n",
      "Decoded sentence: สำหรับมรสุมตะวันออกเฉียงเหนือพัดปกคลุมอ่าวไทยและภาคใต้\n",
      "\n",
      "-\n",
      "Input sentence: ทำให้ภาคนต้มีฝลหกต่ดเนื่อง\n",
      "Decoded sentence: ทำให้ภาคใต้มีฝนเพิ่มขึ้น\n",
      "\n",
      "-\n",
      "Input sentence: พายุโซนศ้อน\n",
      "Decoded sentence: พายุโซนร้อน\n",
      "\n",
      "-\n",
      "Input sentence: บฒิเวณตะวัชตกเฉีหงใต้ของเกาะไต้ฝวัน\n",
      "Decoded sentence: บริเวณตะวันตกเฉียงใต้ของเกาะไต้หวัน\n",
      "\n",
      "-\n",
      "Input sentence: มีแนวโน้ขลีฝจะอ่อนกำลังลญ\n",
      "Decoded sentence: มีแนวโน้มที่จะอ่อนกำลังลง\n",
      "\n",
      "-\n",
      "Input sentence: แษะไมยมีฤลผระทบต่อประเทศไทย\n",
      "Decoded sentence: และไม่มีผลกระทบต่อประเทศไทย\n",
      "\n",
      "-\n",
      "Input sentence: ในช่วงวัผที่\n",
      "Decoded sentence: ในช่วงวันที่\n",
      "\n",
      "-\n",
      "Input sentence: บริเวณความกศอากาศสูงหรือมวลอากาศเย็นกำลังปานกลางจากปรกเยศจจถปกคลุมประเทศไทยตอนบน\n",
      "Decoded sentence: บริเวณความกดอากาศสูงหรือมวลอากาศเย็นกำลังค่อนข้างแรงอีกระลอกจากประเทศจีนได้แผ่ลงมา\n",
      "\n",
      "-\n",
      "Input sentence: ประกอบกับมีหยศอถความกดอาฌาศต่ำปกคลุมบริเวณปมะเทศกัมๅูชา\n",
      "Decoded sentence: ประกอบกับมีหย่อมความกดอากาศต่ำปกคลุมบริเวณภาคกลาง\n",
      "\n",
      "-\n",
      "Input sentence: ลักษณะเๅ่นนฤ้ฒำให้บริเวณประเทศไทยตอนบนมีอากาศเย็นกับมีฝนเล็กน้อผถึงปานกดาง\n",
      "Decoded sentence: ลักษณะเช่นนี้ทำให้บริเวณประเทศไทยตอนบนมีอากาศเย็นกับมีฝนเล็กน้อยถึงปานกลาง\n",
      "\n",
      "-\n",
      "Input sentence: โดยเฉพาภบริเวณภาคตะวันออกเฉณยงเหนือตอนล่างแลกภาคตะวัชฟอก\n",
      "Decoded sentence: โดยเฉพาะบริเวณภาคตะวันออกเฉียงเหนือตอนล่างและภาคตะวันออก\n",
      "\n",
      "-\n",
      "Input sentence: สำหรับภาคใต้ตอนล่างฒีภนตกหยัลบางแห่ง\n",
      "Decoded sentence: สำหรับบริเวณทะเลอันดามันมีคลื่นสูง\n",
      "\n",
      "-\n",
      "Input sentence: เนืฬองจากมรสุมตะวฎฐออกเฉียงเกนือพัดปกคลุมอ่ดวไทยและภาคใต้\n",
      "Decoded sentence: เนื่องจากมรสุมตะวันออกเฉียงเหนือพัดปกคลุมอ่าวไทยและภาคใต้\n",
      "\n",
      "-\n",
      "Input sentence: ส่วนในก่วงวันที่\n",
      "Decoded sentence: ส่วนในช่วงวันที่\n",
      "\n",
      "-\n",
      "Input sentence: ทำให้ปรๅเทศไทยตอนบน\n",
      "Decoded sentence: ทำให้ประเทศไทยตอนบน\n",
      "\n",
      "-\n",
      "Input sentence: มีอุณพภูมิลดลง\n",
      "Decoded sentence: มีฝนตกหนักบางแห่ง\n",
      "\n",
      "-\n",
      "Input sentence: องศาเซลเฝียส\n",
      "Decoded sentence: องศาเซลเซียส\n",
      "\n"
     ]
    }
   ],
   "source": [
    "for seq_index in range(25):\n",
    "    # Take one sequence (part of the training set)\n",
    "    # for trying out decoding.\n",
    "    input_seq = encoder_input_data[seq_index : seq_index + 1]\n",
    "    decoded_sentence = decode_sequence(input_seq)\n",
    "    print(\"-\")\n",
    "    print(\"Input sentence:\", input_texts[seq_index])\n",
    "    print(\"Decoded sentence:\", decoded_sentence)"
   ]
  },
  {
   "cell_type": "code",
   "execution_count": null,
   "metadata": {},
   "outputs": [],
   "source": []
  }
 ],
 "metadata": {
  "kernelspec": {
   "display_name": "Python 3",
   "language": "python",
   "name": "python3"
  },
  "language_info": {
   "codemirror_mode": {
    "name": "ipython",
    "version": 3
   },
   "file_extension": ".py",
   "mimetype": "text/x-python",
   "name": "python",
   "nbconvert_exporter": "python",
   "pygments_lexer": "ipython3",
   "version": "3.8.3"
  }
 },
 "nbformat": 4,
 "nbformat_minor": 4
}
