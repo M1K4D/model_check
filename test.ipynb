{
 "cells": [
  {
   "cell_type": "code",
   "execution_count": 1,
   "metadata": {},
   "outputs": [],
   "source": [
    "import deepcut\n",
    "import numpy as np\n",
    "from tensorflow.keras.preprocessing import sequence\n",
    "from tensorflow import keras\n",
    "from pythainlp import word_vector\n",
    "import re,string\n",
    "from numpy import argmax\n",
    "import tensorflow as tf\n",
    "from tensorflow.keras.utils import to_categorical\n",
    "import random"
   ]
  },
  {
   "cell_type": "code",
   "execution_count": 2,
   "metadata": {},
   "outputs": [],
   "source": [
    "def clean_msg(msg):\n",
    "    \n",
    "    # ลบ text ที่อยู่ในวงเล็บ <> ทั้งหมด\n",
    "    msg = re.sub(r'<*?>','', msg)\n",
    "    msg = re.sub(r'\\d+', '',msg)\n",
    "    # ลบ hashtag\n",
    "    msg = re.sub(r'#','',msg)\n",
    "    msg = re.sub(r'-','',msg)\n",
    "    msg = re.sub(r'ฯ','',msg)\n",
    "    msg = re.sub(r'ๆ','',msg)\n",
    "    msg = re.sub(r'!@#$','',msg)\n",
    "    msg = re.sub(r'[a-zA-Z]','',msg)\n",
    "    # ลบ เครื่องหมายคำพูด (punctuation)\n",
    "    for c in string.punctuation:\n",
    "        msg = re.sub(r'\\{}'.format(c),'',msg)\n",
    "    # ลบ separator เช่น \\n \\t\n",
    "    msg = ' '.join(msg.split())\n",
    "    \n",
    "    return msg"
   ]
  },
  {
   "cell_type": "code",
   "execution_count": null,
   "metadata": {},
   "outputs": [],
   "source": [
    "input_txt = open(\"corpus1.txt\",\"r\")\n",
    "text = input_txt.read()\n",
    "txt = clean_msg(text)\n",
    "input_txt.close()\n",
    "corpus = txt.split()\n",
    "print(corpus)"
   ]
  },
  {
   "cell_type": "code",
   "execution_count": null,
   "metadata": {},
   "outputs": [],
   "source": [
    "def word_tokenize(corpus):\n",
    "    x = 0\n",
    "    words = []\n",
    "    for i in corpus:\n",
    "        list_word = deepcut.tokenize(i,custom_dict='custom_dict.txt') #ตัดคำ\n",
    "        words.append(list_word)\n",
    "        x += 1\n",
    "    return words\n",
    "# corpus=word_tokenize(corpus)\n",
    "# x_test = word_tokenize(x_test)\n",
    "words = word_tokenize(corpus)\n",
    "print(words)\n",
    "print(len(words))"
   ]
  },
  {
   "cell_type": "code",
   "execution_count": null,
   "metadata": {},
   "outputs": [],
   "source": [
    "def ran_incorect(w):\n",
    "    incorect = []\n",
    "    for i in w:\n",
    "        in_cor = []\n",
    "        for r in i:\n",
    "            if len(r) >= 4:\n",
    "                x = random.randint(1, len(r)-1)\n",
    "                y = random.randint(0, len(thai_letters)-1)\n",
    "                x1 = []\n",
    "                for ran in r:\n",
    "                    x1.append(ran)\n",
    "                x1[x] = thai_letters[y]\n",
    "                j = ''.join(x1)\n",
    "                in_cor.append(j)\n",
    "            else:\n",
    "                in_cor.append(r)\n",
    "        incorect.append(in_cor)\n",
    "    return incorect\n",
    "#                 print(r[1])\n",
    "#             print(len(r))"
   ]
  },
  {
   "cell_type": "code",
   "execution_count": null,
   "metadata": {},
   "outputs": [],
   "source": [
    "thai_letters = 'กขฃคฅฆงจฉชซฌญฎฏฐฑฒณดตถทธนบปผฝพฟภมยรฤฤๅลฦฦๅวศษสหฬอฮะัาำิีึืุูเแโใไ็่้๊๋์'"
   ]
  },
  {
   "cell_type": "code",
   "execution_count": null,
   "metadata": {},
   "outputs": [],
   "source": [
    "random.seed(1)\n",
    "incorect_word = ran_incorect(words)\n",
    "print(incorect_word)\n",
    "print(len(incorect_word))"
   ]
  },
  {
   "cell_type": "code",
   "execution_count": null,
   "metadata": {},
   "outputs": [],
   "source": [
    "def create_tar(word,ch):\n",
    "    tar_in = []\n",
    "    for i in word:\n",
    "        targ = []\n",
    "        for j in i:\n",
    "            if ch:\n",
    "                if len(j) >= 5:\n",
    "                    targ.append('T')\n",
    "                else:\n",
    "                    targ.append('F')\n",
    "            else:\n",
    "                targ.append('T')\n",
    "        tar_in.append(targ)\n",
    "    return tar_in\n",
    "# print(tar_in)"
   ]
  },
  {
   "cell_type": "code",
   "execution_count": null,
   "metadata": {},
   "outputs": [],
   "source": [
    "target_c = create_tar(words,False)\n",
    "target_ic = create_tar(incorect_word,True)"
   ]
  },
  {
   "cell_type": "code",
   "execution_count": null,
   "metadata": {},
   "outputs": [],
   "source": [
    "target_c.extend(target_ic)\n",
    "words.extend(incorect_word)"
   ]
  },
  {
   "cell_type": "code",
   "execution_count": null,
   "metadata": {},
   "outputs": [],
   "source": [
    "print(words)"
   ]
  },
  {
   "cell_type": "code",
   "execution_count": null,
   "metadata": {},
   "outputs": [],
   "source": [
    "char_to_int = dict((c, i) for i, c in enumerate(thai_letters))\n",
    "int_to_char = dict((i, c) for i, c in enumerate(thai_letters))"
   ]
  },
  {
   "cell_type": "code",
   "execution_count": null,
   "metadata": {},
   "outputs": [],
   "source": [
    "x_tr = []\n",
    "for i in words:\n",
    "    x_tr.extend(i)\n",
    "print(len(x_tr))"
   ]
  },
  {
   "cell_type": "code",
   "execution_count": null,
   "metadata": {},
   "outputs": [],
   "source": [
    "y_tr = []\n",
    "for i in target_c:\n",
    "    y_tr.extend(i)\n",
    "print(len(y_tr))"
   ]
  },
  {
   "cell_type": "code",
   "execution_count": null,
   "metadata": {},
   "outputs": [],
   "source": [
    "x_tr_ch = []\n",
    "for char1 in x_tr:\n",
    "    integer_encoded = [char_to_int[char] for char in char1]\n",
    "    x_tr_ch.append(integer_encoded)\n",
    "print(len(x_tr_ch))"
   ]
  },
  {
   "cell_type": "code",
   "execution_count": null,
   "metadata": {},
   "outputs": [],
   "source": [
    "check_idx = {}\n",
    "# check_idx['pad'] = 0\n",
    "check_idx['T'] = 0\n",
    "check_idx['F'] = 1"
   ]
  },
  {
   "cell_type": "code",
   "execution_count": null,
   "metadata": {},
   "outputs": [],
   "source": [
    "y_train = []\n",
    "for i in y_tr:\n",
    "    if i == 'T':\n",
    "        y_train.append(1)\n",
    "    else:\n",
    "        y_train.append(0)\n",
    "print(len(y_train))\n",
    "print(y_train)"
   ]
  },
  {
   "cell_type": "code",
   "execution_count": 18,
   "metadata": {},
   "outputs": [
    {
     "name": "stdout",
     "output_type": "stream",
     "text": [
      "(1614, 30)\n"
     ]
    }
   ],
   "source": [
    "max_len = 30\n",
    "x_train = sequence.pad_sequences(np.array(x_tr_ch),maxlen=max_len,padding='pre')\n",
    "print(x_train.shape)"
   ]
  },
  {
   "cell_type": "code",
   "execution_count": 36,
   "metadata": {},
   "outputs": [],
   "source": [
    "model = keras.Sequential()\n",
    "model.add(keras.layers.Embedding(len(thai_letters)+1,50,input_length=max_len))\n",
    "model.add(keras.layers.Bidirectional(keras.layers.LSTM(32, return_sequences=True)))\n",
    "model.add(keras.layers.Bidirectional(keras.layers.LSTM(12)))\n",
    "model.add(keras.layers.Dense(64, activation=keras.activations.relu))\n",
    "model.add(keras.layers.Dense(2))"
   ]
  },
  {
   "cell_type": "code",
   "execution_count": 37,
   "metadata": {},
   "outputs": [],
   "source": [
    "model.compile(loss=keras.losses.sparse_categorical_crossentropy, optimizer=keras.optimizers.Adam(learning_rate=1e-3),metrics=['accuracy'])"
   ]
  },
  {
   "cell_type": "code",
   "execution_count": 38,
   "metadata": {},
   "outputs": [
    {
     "name": "stdout",
     "output_type": "stream",
     "text": [
      "Model: \"sequential_2\"\n",
      "_________________________________________________________________\n",
      "Layer (type)                 Output Shape              Param #   \n",
      "=================================================================\n",
      "embedding_4 (Embedding)      (None, 30, 50)            3600      \n",
      "_________________________________________________________________\n",
      "bidirectional_4 (Bidirection (None, 30, 64)            21248     \n",
      "_________________________________________________________________\n",
      "bidirectional_5 (Bidirection (None, 24)                7392      \n",
      "_________________________________________________________________\n",
      "dense_18 (Dense)             (None, 64)                1600      \n",
      "_________________________________________________________________\n",
      "dense_19 (Dense)             (None, 2)                 130       \n",
      "=================================================================\n",
      "Total params: 33,970\n",
      "Trainable params: 33,970\n",
      "Non-trainable params: 0\n",
      "_________________________________________________________________\n",
      "None\n"
     ]
    }
   ],
   "source": [
    "print(model.summary())"
   ]
  },
  {
   "cell_type": "code",
   "execution_count": 39,
   "metadata": {},
   "outputs": [
    {
     "name": "stdout",
     "output_type": "stream",
     "text": [
      "Epoch 1/10\n",
      "46/46 [==============================] - 2s 39ms/step - loss: 1.2200 - accuracy: 0.5840 - val_loss: 0.6931 - val_accuracy: 0.7531\n",
      "Epoch 2/10\n",
      "46/46 [==============================] - 0s 9ms/step - loss: 0.6931 - accuracy: 0.3230 - val_loss: 0.6931 - val_accuracy: 0.7284\n",
      "Epoch 3/10\n",
      "46/46 [==============================] - 0s 9ms/step - loss: 0.6931 - accuracy: 0.3189 - val_loss: 0.6931 - val_accuracy: 0.7284\n",
      "Epoch 4/10\n",
      "46/46 [==============================] - 0s 9ms/step - loss: 0.6931 - accuracy: 0.3189 - val_loss: 0.6931 - val_accuracy: 0.7284\n",
      "Epoch 5/10\n",
      "46/46 [==============================] - 0s 9ms/step - loss: 0.6931 - accuracy: 0.3189 - val_loss: 0.6931 - val_accuracy: 0.7284\n",
      "Epoch 6/10\n",
      "46/46 [==============================] - 0s 9ms/step - loss: 0.6931 - accuracy: 0.3189 - val_loss: 0.6931 - val_accuracy: 0.7284\n",
      "Epoch 7/10\n",
      "46/46 [==============================] - 0s 10ms/step - loss: 0.6931 - accuracy: 0.3189 - val_loss: 0.6931 - val_accuracy: 0.7284\n",
      "Epoch 8/10\n",
      "46/46 [==============================] - 0s 9ms/step - loss: 0.6931 - accuracy: 0.3189 - val_loss: 0.6931 - val_accuracy: 0.7284\n",
      "Epoch 9/10\n",
      "46/46 [==============================] - 0s 9ms/step - loss: 0.6931 - accuracy: 0.3189 - val_loss: 0.6931 - val_accuracy: 0.7284\n",
      "Epoch 10/10\n",
      "46/46 [==============================] - 0s 9ms/step - loss: 0.6931 - accuracy: 0.3189 - val_loss: 0.6931 - val_accuracy: 0.7284\n"
     ]
    },
    {
     "data": {
      "text/plain": [
       "<tensorflow.python.keras.callbacks.History at 0x1a99769fa00>"
      ]
     },
     "execution_count": 39,
     "metadata": {},
     "output_type": "execute_result"
    }
   ],
   "source": [
    "model.fit(x_train, np.array(y_train), epochs=10,validation_split=0.1)"
   ]
  },
  {
   "cell_type": "code",
   "execution_count": 40,
   "metadata": {},
   "outputs": [
    {
     "name": "stdout",
     "output_type": "stream",
     "text": [
      "1614\n"
     ]
    }
   ],
   "source": [
    "x = model.predict(x_train).argmax(axis=1)\n",
    "print(len(x))"
   ]
  },
  {
   "cell_type": "code",
   "execution_count": 43,
   "metadata": {},
   "outputs": [
    {
     "name": "stdout",
     "output_type": "stream",
     "text": [
      "1\n",
      "1\n",
      "1\n",
      "1\n",
      "1\n",
      "1\n",
      "1\n",
      "1\n",
      "1\n",
      "1\n",
      "1\n",
      "1\n",
      "1\n",
      "1\n",
      "1\n",
      "1\n",
      "1\n",
      "1\n",
      "1\n",
      "1\n",
      "1\n",
      "1\n",
      "1\n",
      "1\n",
      "1\n"
     ]
    }
   ],
   "source": [
    "for i in x:\n",
    "    if i == 1:\n",
    "        print(i)"
   ]
  },
  {
   "cell_type": "code",
   "execution_count": null,
   "metadata": {},
   "outputs": [],
   "source": []
  }
 ],
 "metadata": {
  "kernelspec": {
   "display_name": "Python 3",
   "language": "python",
   "name": "python3"
  },
  "language_info": {
   "codemirror_mode": {
    "name": "ipython",
    "version": 3
   },
   "file_extension": ".py",
   "mimetype": "text/x-python",
   "name": "python",
   "nbconvert_exporter": "python",
   "pygments_lexer": "ipython3",
   "version": "3.8.3"
  }
 },
 "nbformat": 4,
 "nbformat_minor": 4
}
