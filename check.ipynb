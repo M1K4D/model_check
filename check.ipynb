{
 "cells": [
  {
   "cell_type": "code",
   "execution_count": 89,
   "metadata": {},
   "outputs": [],
   "source": [
    "import deepcut\n",
    "import numpy as np\n",
    "from tensorflow.keras.preprocessing import sequence\n",
    "from tensorflow import keras"
   ]
  },
  {
   "cell_type": "code",
   "execution_count": 90,
   "metadata": {},
   "outputs": [],
   "source": [
    "x_train = ['วันนี้วันจันทร์','วันนี้วันศุกร์','วันนี้วันเสาร์','วันนีวันจันทนะ','วันนีวันศุกนะ','วันนีวันศุร์นะ','วันนี้วันศุกร์นะ','วันนี้วันจันทร์นะ',]\n",
    "y_train = ['ถูก','ถูก','ถูก','ผิด','ผิด','ผิด','ถูก','ถูก',]\n",
    "x_test = ['วันนี้วันพุธ','วันนี้วันอังคาร','วันนี้วันอังคาน',]"
   ]
  },
  {
   "cell_type": "code",
   "execution_count": 92,
   "metadata": {},
   "outputs": [],
   "source": [
    "corpus = ['วันนี้วันจันทร์','วันนี้วันศุกร์','วันนี้วันเสาร์','วันนีวันจันทนะ','วันนีวันศุกนะ',\n",
    "          'วันนีวันศุร์นะ','วันนี้วันศุกร์นะ','วันนี้วันจันทร์นะ','วันนี้วันพุธ','วันนี้วันอังคาร','วันนี้วันอังคาน',]"
   ]
  },
  {
   "cell_type": "code",
   "execution_count": 47,
   "metadata": {},
   "outputs": [
    {
     "name": "stdout",
     "output_type": "stream",
     "text": [
      "['วัน', 'นี้', 'วัน', 'ศุร์นะ']\n"
     ]
    }
   ],
   "source": [
    "test = deepcut.tokenize('วันนี้วันศุร์นะ')\n",
    "print(test)"
   ]
  },
  {
   "cell_type": "code",
   "execution_count": 93,
   "metadata": {},
   "outputs": [
    {
     "name": "stdout",
     "output_type": "stream",
     "text": [
      "[['วัน', 'นี้', 'วัน', 'จันทร์'], ['วัน', 'นี้', 'วัน', 'ศุกร์'], ['วัน', 'นี้', 'วัน', 'เสาร์'], ['วัน', 'นีวัน', 'จันทนะ'], ['วัน', 'นีวัน', 'ศุก', 'นะ'], ['วัน', 'นีวัน', 'ศุร์นะ'], ['วัน', 'นี้', 'วัน', 'ศุกร์', 'นะ'], ['วัน', 'นี้', 'วัน', 'จันทร์', 'นะ']]\n",
      "8\n"
     ]
    }
   ],
   "source": [
    "def word_tokenize(corpus):\n",
    "    x = 0\n",
    "    words = []\n",
    "    for i in corpus:\n",
    "        list_word = deepcut.tokenize(i,custom_dict='custom_dict.txt') #ตัดคำ\n",
    "        words.append(list_word)\n",
    "        x += 1\n",
    "    return words\n",
    "corpus=word_tokenize(corpus)\n",
    "words = word_tokenize(x_train)\n",
    "print(words)\n",
    "print(len(words))"
   ]
  },
  {
   "cell_type": "code",
   "execution_count": 103,
   "metadata": {},
   "outputs": [
    {
     "name": "stdout",
     "output_type": "stream",
     "text": [
      "[' ', 'นะ', 'เสาร์', 'วัน', 'จันทนะ', 'นี้', 'ศุกร์', 'ศุก', 'อังคาน', 'นีวัน', 'พุธ', 'อังคาร', 'จันทร์', 'ศุร์นะ']\n"
     ]
    }
   ],
   "source": [
    "def add_1list(word_list):\n",
    "    list_ = []\n",
    "    vocab = []\n",
    "    for l in word_list:\n",
    "        list_.extend(l)\n",
    "#     print(list_)\n",
    "    word_v = set(list_)\n",
    "    for list_d in word_v:\n",
    "        vocab.append(list_d)\n",
    "    vocab = [' '] + vocab\n",
    "    return vocab\n",
    "\n",
    "vocab = add_1list(corpus)\n",
    "print(vocab)"
   ]
  },
  {
   "cell_type": "code",
   "execution_count": 104,
   "metadata": {},
   "outputs": [
    {
     "name": "stdout",
     "output_type": "stream",
     "text": [
      "['วัน', 'นี้', 'วัน', 'จันทร์', 'วัน', 'นี้', 'วัน', 'ศุกร์', 'วัน', 'นี้', 'วัน', 'เสาร์', 'วัน', 'นีวัน', 'จันทนะ', 'วัน', 'นีวัน', 'ศุก', 'นะ', 'วัน', 'นีวัน', 'ศุร์นะ', 'วัน', 'นี้', 'วัน', 'ศุกร์', 'นะ', 'วัน', 'นี้', 'วัน', 'จันทร์', 'นะ']\n",
      "{'นะ', 'เสาร์', 'วัน', 'จันทนะ', 'นี้', 'ศุกร์', 'ศุก', 'นีวัน', 'จันทร์', 'ศุร์นะ'}\n"
     ]
    }
   ],
   "source": [
    "words1 = []\n",
    "x = 0\n",
    "y = 0\n",
    "for text in range(len(words)):\n",
    "    for word in range(len(words[y])):\n",
    "        words1.append(words[y][x])\n",
    "        x += 1\n",
    "    y += 1\n",
    "    x = 0\n",
    "print(words1)\n",
    "words1 = set(words1)\n",
    "print(words1)\n",
    "# vocab = []\n",
    "# for list_d in words1:\n",
    "#     vocab.append(list_d)\n",
    "# vocab = [' '] + vocab\n",
    "# print(vocab)\n",
    "# print(len(vocab))"
   ]
  },
  {
   "cell_type": "code",
   "execution_count": 105,
   "metadata": {},
   "outputs": [],
   "source": [
    "def sent2idx(x):\n",
    "    xidx = []\n",
    "    for w in x:\n",
    "#         print(w)\n",
    "        if w in vocab:\n",
    "            xidx.append(vocab.index(w))\n",
    "    return np.array(xidx)"
   ]
  },
  {
   "cell_type": "code",
   "execution_count": 106,
   "metadata": {},
   "outputs": [
    {
     "data": {
      "text/plain": [
       "array([ 3,  5,  3, 12])"
      ]
     },
     "execution_count": 106,
     "metadata": {},
     "output_type": "execute_result"
    }
   ],
   "source": [
    "sent2idx(words[0])"
   ]
  },
  {
   "cell_type": "code",
   "execution_count": 107,
   "metadata": {},
   "outputs": [],
   "source": [
    "def word_seq(words):\n",
    "    Xtrain_idx = []\n",
    "    maxlen = 0\n",
    "    for x in words:\n",
    "        Xtrain_idx.append(sent2idx(x))\n",
    "        if len(Xtrain_idx[-1]) > maxlen:\n",
    "            maxlen = len(Xtrain_idx[-1])\n",
    "#         print(len(Xtrain_idx[-1]))\n",
    "    return Xtrain_idx"
   ]
  },
  {
   "cell_type": "code",
   "execution_count": 108,
   "metadata": {},
   "outputs": [
    {
     "name": "stdout",
     "output_type": "stream",
     "text": [
      "[array([ 3,  5,  3, 12]), array([3, 5, 3, 6]), array([3, 5, 3, 2]), array([3, 9, 4]), array([3, 9, 7, 1]), array([ 3,  9, 13]), array([3, 5, 3, 6, 1]), array([ 3,  5,  3, 12,  1])]\n"
     ]
    }
   ],
   "source": [
    "Xtrain = word_seq(words)\n",
    "print(Xtrain)"
   ]
  },
  {
   "cell_type": "code",
   "execution_count": 109,
   "metadata": {},
   "outputs": [
    {
     "name": "stdout",
     "output_type": "stream",
     "text": [
      "[[ 0  3  5  3 12]\n",
      " [ 0  3  5  3  6]\n",
      " [ 0  3  5  3  2]\n",
      " [ 0  0  3  9  4]\n",
      " [ 0  3  9  7  1]\n",
      " [ 0  0  3  9 13]\n",
      " [ 3  5  3  6  1]\n",
      " [ 3  5  3 12  1]]\n"
     ]
    }
   ],
   "source": [
    "Xtrain = sequence.pad_sequences(np.array(Xtrain),padding='pre')\n",
    "print(Xtrain)"
   ]
  },
  {
   "cell_type": "code",
   "execution_count": 110,
   "metadata": {},
   "outputs": [
    {
     "data": {
      "text/plain": [
       "(8, 5)"
      ]
     },
     "execution_count": 110,
     "metadata": {},
     "output_type": "execute_result"
    }
   ],
   "source": [
    "Xtrain.shape"
   ]
  },
  {
   "cell_type": "code",
   "execution_count": 111,
   "metadata": {},
   "outputs": [
    {
     "name": "stdout",
     "output_type": "stream",
     "text": [
      "5\n"
     ]
    }
   ],
   "source": [
    "intput_lenght = len(Xtrain[0])\n",
    "print(intput_lenght)\n",
    "vocab_size = len(vocab)+1"
   ]
  },
  {
   "cell_type": "code",
   "execution_count": 136,
   "metadata": {},
   "outputs": [],
   "source": [
    "model = keras.Sequential()\n",
    "model.add(keras.layers.Embedding(input_dim = vocab_size,output_dim = 300,input_length=intput_lenght))\n",
    "model.add(keras.layers.Bidirectional(keras.layers.LSTM(8, return_sequences=True)))\n",
    "model.add(keras.layers.Bidirectional(keras.layers.LSTM(4)))\n",
    "model.add(keras.layers.Dense(32, activation=keras.activations.relu))\n",
    "model.add(keras.layers.Dense(2))"
   ]
  },
  {
   "cell_type": "code",
   "execution_count": 137,
   "metadata": {},
   "outputs": [],
   "source": [
    "model.compile(loss=keras.losses.sparse_categorical_crossentropy, optimizer=keras.optimizers.SGD(learning_rate=1e-3))"
   ]
  },
  {
   "cell_type": "code",
   "execution_count": 138,
   "metadata": {},
   "outputs": [
    {
     "name": "stdout",
     "output_type": "stream",
     "text": [
      "Model: \"sequential_11\"\n",
      "_________________________________________________________________\n",
      "Layer (type)                 Output Shape              Param #   \n",
      "=================================================================\n",
      "embedding_13 (Embedding)     (None, 5, 300)            4500      \n",
      "_________________________________________________________________\n",
      "bidirectional_22 (Bidirectio (None, 5, 16)             19776     \n",
      "_________________________________________________________________\n",
      "bidirectional_23 (Bidirectio (None, 8)                 672       \n",
      "_________________________________________________________________\n",
      "dense_36 (Dense)             (None, 32)                288       \n",
      "_________________________________________________________________\n",
      "dense_37 (Dense)             (None, 2)                 66        \n",
      "=================================================================\n",
      "Total params: 25,302\n",
      "Trainable params: 25,302\n",
      "Non-trainable params: 0\n",
      "_________________________________________________________________\n",
      "None\n"
     ]
    }
   ],
   "source": [
    "print(model.summary())"
   ]
  },
  {
   "cell_type": "code",
   "execution_count": 142,
   "metadata": {},
   "outputs": [
    {
     "name": "stdout",
     "output_type": "stream",
     "text": [
      "Epoch 1/10\n",
      "1/1 [==============================] - 0s 2ms/step - loss: 0.6931\n",
      "Epoch 2/10\n",
      "1/1 [==============================] - 0s 1ms/step - loss: 0.6931\n",
      "Epoch 3/10\n",
      "1/1 [==============================] - 0s 2ms/step - loss: 0.6931\n",
      "Epoch 4/10\n",
      "1/1 [==============================] - 0s 2ms/step - loss: 0.6931\n",
      "Epoch 5/10\n",
      "1/1 [==============================] - 0s 2ms/step - loss: 0.6931\n",
      "Epoch 6/10\n",
      "1/1 [==============================] - 0s 1ms/step - loss: 0.6931\n",
      "Epoch 7/10\n",
      "1/1 [==============================] - 0s 1ms/step - loss: 0.6931\n",
      "Epoch 8/10\n",
      "1/1 [==============================] - 0s 1000us/step - loss: 0.6931\n",
      "Epoch 9/10\n",
      "1/1 [==============================] - 0s 2ms/step - loss: 0.6931\n",
      "Epoch 10/10\n",
      "1/1 [==============================] - 0s 1ms/step - loss: 0.6931\n"
     ]
    },
    {
     "data": {
      "text/plain": [
       "<tensorflow.python.keras.callbacks.History at 0x220ef218520>"
      ]
     },
     "execution_count": 142,
     "metadata": {},
     "output_type": "execute_result"
    }
   ],
   "source": [
    "model.fit(Xtrain, np.array([1,1,1,0,0,0,1,1]), epochs=10)"
   ]
  },
  {
   "cell_type": "code",
   "execution_count": 143,
   "metadata": {},
   "outputs": [
    {
     "data": {
      "text/plain": [
       "array([1, 1, 1, 1, 1, 1, 1, 1], dtype=int64)"
      ]
     },
     "execution_count": 143,
     "metadata": {},
     "output_type": "execute_result"
    }
   ],
   "source": [
    "model.predict(Xtrain).argmax(axis=1)"
   ]
  },
  {
   "cell_type": "code",
   "execution_count": null,
   "metadata": {},
   "outputs": [],
   "source": []
  }
 ],
 "metadata": {
  "kernelspec": {
   "display_name": "Python 3",
   "language": "python",
   "name": "python3"
  },
  "language_info": {
   "codemirror_mode": {
    "name": "ipython",
    "version": 3
   },
   "file_extension": ".py",
   "mimetype": "text/x-python",
   "name": "python",
   "nbconvert_exporter": "python",
   "pygments_lexer": "ipython3",
   "version": "3.8.3"
  }
 },
 "nbformat": 4,
 "nbformat_minor": 4
}
